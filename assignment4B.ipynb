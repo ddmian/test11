{
 "cells": [
  {
   "cell_type": "markdown",
   "metadata": {},
   "source": [
    "# Assignment 4B - Data Mining and Machine Learning  "
   ]
  },
  {
   "cell_type": "code",
   "execution_count": 1,
   "metadata": {
    "collapsed": true
   },
   "outputs": [],
   "source": [
    "import numpy as np\n",
    "import pandas as pd\n",
    "import csv\n",
    "import matplotlib.pyplot as plt\n",
    "\n",
    "from __future__ import division\n",
    "%matplotlib inline"
   ]
  },
  {
   "cell_type": "markdown",
   "metadata": {},
   "source": [
    "### Machine Learning - Classification on Wine Data"
   ]
  },
  {
   "cell_type": "markdown",
   "metadata": {},
   "source": [
    "![alt text](redwhitewines.jpg \"Cheers!\")"
   ]
  },
  {
   "cell_type": "markdown",
   "metadata": {},
   "source": [
    "For the problems below, we will be using the wines data set.\n",
    "We compiled this data set using the data files provided at https://archive.ics.uci.edu/ml/datasets/Wine+Quality. \n",
    "\n",
    "Cheers and enjoy! :) "
   ]
  },
  {
   "cell_type": "code",
   "execution_count": 3,
   "metadata": {},
   "outputs": [],
   "source": [
    "f = open('wines.csv','rU')\n",
    "wines =  pd.read_csv(f)"
   ]
  },
  {
   "cell_type": "code",
   "execution_count": 4,
   "metadata": {},
   "outputs": [
    {
     "data": {
      "text/html": [
       "<div>\n",
       "<table border=\"1\" class=\"dataframe\">\n",
       "  <thead>\n",
       "    <tr style=\"text-align: right;\">\n",
       "      <th></th>\n",
       "      <th>fixed acidity</th>\n",
       "      <th>volatile acidity</th>\n",
       "      <th>citric acid</th>\n",
       "      <th>residual sugar</th>\n",
       "      <th>chlorides</th>\n",
       "      <th>free sulfur dioxide</th>\n",
       "      <th>total sulfur dioxide</th>\n",
       "      <th>density</th>\n",
       "      <th>pH</th>\n",
       "      <th>sulphates</th>\n",
       "      <th>alcohol</th>\n",
       "      <th>quality</th>\n",
       "      <th>color</th>\n",
       "    </tr>\n",
       "  </thead>\n",
       "  <tbody>\n",
       "    <tr>\n",
       "      <th>0</th>\n",
       "      <td>7.2</td>\n",
       "      <td>0.46</td>\n",
       "      <td>0.65</td>\n",
       "      <td>10.4</td>\n",
       "      <td>0.050</td>\n",
       "      <td>76.0</td>\n",
       "      <td>192.0</td>\n",
       "      <td>0.99760</td>\n",
       "      <td>3.16</td>\n",
       "      <td>0.42</td>\n",
       "      <td>8.7</td>\n",
       "      <td>5</td>\n",
       "      <td>white</td>\n",
       "    </tr>\n",
       "    <tr>\n",
       "      <th>1</th>\n",
       "      <td>7.3</td>\n",
       "      <td>0.55</td>\n",
       "      <td>0.01</td>\n",
       "      <td>1.8</td>\n",
       "      <td>0.093</td>\n",
       "      <td>9.0</td>\n",
       "      <td>15.0</td>\n",
       "      <td>0.99514</td>\n",
       "      <td>3.35</td>\n",
       "      <td>0.58</td>\n",
       "      <td>11.0</td>\n",
       "      <td>7</td>\n",
       "      <td>red</td>\n",
       "    </tr>\n",
       "    <tr>\n",
       "      <th>2</th>\n",
       "      <td>10.4</td>\n",
       "      <td>0.33</td>\n",
       "      <td>0.63</td>\n",
       "      <td>2.8</td>\n",
       "      <td>0.084</td>\n",
       "      <td>5.0</td>\n",
       "      <td>22.0</td>\n",
       "      <td>0.99980</td>\n",
       "      <td>3.26</td>\n",
       "      <td>0.74</td>\n",
       "      <td>11.2</td>\n",
       "      <td>7</td>\n",
       "      <td>red</td>\n",
       "    </tr>\n",
       "  </tbody>\n",
       "</table>\n",
       "</div>"
      ],
      "text/plain": [
       "   fixed acidity  volatile acidity  citric acid  residual sugar  chlorides  \\\n",
       "0            7.2              0.46         0.65            10.4      0.050   \n",
       "1            7.3              0.55         0.01             1.8      0.093   \n",
       "2           10.4              0.33         0.63             2.8      0.084   \n",
       "\n",
       "   free sulfur dioxide  total sulfur dioxide  density    pH  sulphates  \\\n",
       "0                 76.0                 192.0  0.99760  3.16       0.42   \n",
       "1                  9.0                  15.0  0.99514  3.35       0.58   \n",
       "2                  5.0                  22.0  0.99980  3.26       0.74   \n",
       "\n",
       "   alcohol  quality  color  \n",
       "0      8.7        5  white  \n",
       "1     11.0        7    red  \n",
       "2     11.2        7    red  "
      ]
     },
     "execution_count": 4,
     "metadata": {},
     "output_type": "execute_result"
    }
   ],
   "source": [
    "wines[:3]"
   ]
  },
  {
   "cell_type": "markdown",
   "metadata": {},
   "source": [
    "### Problem 4 (38 points)\n",
    "In class we showed you how to use the sklearn library to train and test machine learning models."
   ]
  },
  {
   "cell_type": "markdown",
   "metadata": {
    "collapsed": true
   },
   "source": [
    "#### Part 1) (4 points)\n",
    "\n",
    "Create training and test sets. Use 80% of the data for training and remaining 20% for testing."
   ]
  },
  {
   "cell_type": "code",
   "execution_count": 5,
   "metadata": {},
   "outputs": [],
   "source": [
    "# YOUR CODE HERE"
   ]
  },
  {
   "cell_type": "markdown",
   "metadata": {},
   "source": [
    "#### Part 2) (8 points)\n",
    "Implement the function \"train_and_test_classifier\". \n",
    "\n",
    "The purpose of having a function is so you don't need to rewrite the code for every classifier you try. Instead, you can pass the classifier into this function.\n",
    "\n",
    "We provided the function header and the description of the function. You can follow along the code from the lecture example."
   ]
  },
  {
   "cell_type": "code",
   "execution_count": 6,
   "metadata": {
    "collapsed": true
   },
   "outputs": [],
   "source": [
    "def train_and_test_classifier(classifier, features, target, train_data, test_data, verbose=False):  \n",
    "    \"\"\"\n",
    "    fits a classifier to the provided training data, prints out and returns the prediction \n",
    "    accuracy on both training and test sets.\n",
    "    \n",
    "    Parameters:\n",
    "    -----------\n",
    "    classifier: The classifier object, e.g. KNN classifier\n",
    "    features: a list of data frame columns to use as features. \n",
    "                E.g. [\"latitude\", \"longitude\"]\n",
    "    target: the data frame column to use as target. E.g. \"category\"\n",
    "    train_data: a Pandas data frame containing the training data\n",
    "    test_data: a Pandas data frame containing the test data\n",
    "    verbose: If True, prints out the predicted value and the actual value \n",
    "                for every sample for both training and test sets.\n",
    "                \n",
    "    Returns:\n",
    "    --------\n",
    "    train_acc: accuracy on training set\n",
    "    test_acc: accuracy on test set\n",
    "    \"\"\"\n",
    "    # YOUR CODE HERE   \n",
    "   \n",
    "    return train_acc, test_acc"
   ]
  },
  {
   "cell_type": "code",
   "execution_count": 7,
   "metadata": {},
   "outputs": [
    {
     "data": {
      "text/plain": [
       "<matplotlib.axes._subplots.AxesSubplot at 0x1073607d0>"
      ]
     },
     "execution_count": 7,
     "metadata": {},
     "output_type": "execute_result"
    },
    {
     "data": {
      "image/png": "[encoded data removed]",
      "text/plain": [
       "<matplotlib.figure.Figure at 0x1072d7750>"
      ]
     },
     "metadata": {},
     "output_type": "display_data"
    }
   ],
   "source": [
    "# Plotting the data along the two features \"volatile acidity\" and \"total sulfur dioxide\"\n",
    "# Blue dots correspond to white wines, red dots correspond to red wines.\n",
    "plot_color = {}\n",
    "plot_color['white'] = 'blue' # since white would be difficult to see ;) \n",
    "plot_color['red'] = 'red'\n",
    "plot_colors = [plot_color[c] for c in wines['color']]\n",
    "wines.plot.scatter(x='volatile acidity', y='chlorides', c=plot_colors, loglog=True)"
   ]
  },
  {
   "cell_type": "markdown",
   "metadata": {},
   "source": [
    "#### Part 3) (3 points)\n",
    "Train a Logistic Regression model to predict the *color* of the wine using the following features:\n",
    "\n",
    "- volatile acidity\n",
    "- total sulfur dioxide\n",
    "\n",
    "If you implemented Part 2), please use your function to handle the training and testing. "
   ]
  },
  {
   "cell_type": "code",
   "execution_count": 8,
   "metadata": {},
   "outputs": [],
   "source": [
    "from sklearn.linear_model import LogisticRegression\n",
    "# YOUR CODE HERE"
   ]
  },
  {
   "cell_type": "markdown",
   "metadata": {},
   "source": [
    "#### Part 4) (5 points)\n",
    "\n",
    "Repeat experiment from Part 3) with KNN.\n",
    "\n",
    "Report train and test accuracies for k in [1,2,5,10,20]. (So you repeat this experiment 5 times for different settings of k)\n",
    "\n",
    "Briefly describe what you observe when k changes. \n",
    "\n",
    "Which k that gives you the highest test accuracy?"
   ]
  },
  {
   "cell_type": "code",
   "execution_count": 9,
   "metadata": {},
   "outputs": [],
   "source": [
    "from sklearn.neighbors import KNeighborsClassifier\n",
    "# YOUR CODE HERE"
   ]
  },
  {
   "cell_type": "markdown",
   "metadata": {},
   "source": [
    "#### Part 5) (5 points)\n",
    "Repeat experiment in Part 3) using decision trees with the following settings for the split parameter:\n",
    "\n",
    "Report train and test accuracies for split in [2,4,10,20,40].\n",
    "\n",
    "Which split yielded the highest test accuracy?"
   ]
  },
  {
   "cell_type": "code",
   "execution_count": 10,
   "metadata": {},
   "outputs": [],
   "source": [
    "from sklearn.tree import DecisionTreeClassifier\n",
    "# YOUR CODE HERE"
   ]
  },
  {
   "cell_type": "markdown",
   "metadata": {},
   "source": [
    "#### Part 6) (5 points)\n",
    "Repeat experiment in Part 3) using random forests. (Note that your results will differ from run to run since there is randomness involved.)\n",
    "\n",
    "Report train and test accuracies for n_trees in [1,2,5,10,20] and plot the results."
   ]
  },
  {
   "cell_type": "code",
   "execution_count": 11,
   "metadata": {},
   "outputs": [],
   "source": [
    "from sklearn.ensemble import RandomForestClassifier\n",
    "# YOUR CODE HERE"
   ]
  },
  {
   "cell_type": "markdown",
   "metadata": {},
   "source": [
    "#### Part 7) (3 points)\n",
    "Repeat experiment in Part 3) using Gaussian naive Bayes."
   ]
  },
  {
   "cell_type": "code",
   "execution_count": 12,
   "metadata": {},
   "outputs": [],
   "source": [
    "from sklearn.naive_bayes import GaussianNB\n",
    "# YOUR CODE HERE"
   ]
  },
  {
   "cell_type": "markdown",
   "metadata": {},
   "source": [
    "#### Part 9) (5 points)\n",
    "Plot the train and test accuracies for all models into a single plot using matplotlib. On the x-axis, you have the models, on the y-axis the accuracies.\n",
    "\n",
    "For KNN, Decision Tree and Random Forests, use the parameter setting that yielded the highest test accuracy.\n",
    "\n",
    "Based on your experiments so far, which model yielded the best validation accuracy? "
   ]
  },
  {
   "cell_type": "code",
   "execution_count": 13,
   "metadata": {
    "collapsed": true
   },
   "outputs": [],
   "source": [
    "# YOUR CODE HERE"
   ]
  },
  {
   "cell_type": "markdown",
   "metadata": {},
   "source": [
    "## Extra Credit (5 points)\n",
    "\n",
    "Use any model of your choice (including models from sklearn that we did not cover in class) and beat the highest test accuracy you obtained on problem 4."
   ]
  },
  {
   "cell_type": "code",
   "execution_count": 14,
   "metadata": {
    "collapsed": true
   },
   "outputs": [],
   "source": [
    "# YOUR CODE HERE"
   ]
  }
 ],
 "metadata": {
  "kernelspec": {
   "display_name": "Python 3",
   "language": "python",
   "name": "python3"
  },
  "language_info": {
   "codemirror_mode": {
    "name": "ipython",
    "version": 3
   },
   "file_extension": ".py",
   "mimetype": "text/x-python",
   "name": "python",
   "nbconvert_exporter": "python",
   "pygments_lexer": "ipython3",
   "version": "3.7.3"
  }
 },
 "nbformat": 4,
 "nbformat_minor": 1
}
